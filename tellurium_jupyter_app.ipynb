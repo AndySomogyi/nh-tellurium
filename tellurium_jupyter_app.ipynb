{
 "cells": [
  {
   "cell_type": "code",
   "execution_count": null,
   "metadata": {
    "scrolled": false
   },
   "outputs": [],
   "source": [
    "import os\n",
    "import sys\n",
    "sys.path.insert(0,os.environ['CUSTOMPACKAGES'])\n",
    "from tellurium.notebooks import ParameterSlider"
   ]
  },
  {
   "cell_type": "code",
   "execution_count": null,
   "metadata": {},
   "outputs": [],
   "source": [
    "r = te.loada('''\n",
    "      model pathway()\n",
    "        S1 -> S2; k1*S1 - k2*S2 # Reversible term added here\n",
    "\n",
    "        # Initialize values\n",
    "        S1 = 5; S2 = 0;\n",
    "        k1 = 0.1;  k2 = 0.05;\n",
    "\n",
    "      end\n",
    "''')\n",
    "ParameterSlider(r, paramIds=['k1', 'k2']);"
   ]
  },
  {
   "cell_type": "code",
   "execution_count": null,
   "metadata": {},
   "outputs": [],
   "source": [
    "r = te.loada('S1 -> S2; k1*S1; k1 = 0.02; S1 = 100')\n",
    "r.setSeed(1234)\n",
    "for k in range(1, 20):\n",
    "    r.resetToOrigin()\n",
    "    res1 = r.gillespie(0, 10)\n",
    "    r.plot(res1, show=False) # plot first half of data\n",
    "\n",
    "    # change in parameter after the first half of the simulation\n",
    "    # We could have also used an Event in the antimony model,\n",
    "    # which are described further in the Antimony Reference section\n",
    "    r.k1 = r.k1*20\n",
    "    res2 = r.gillespie (10, 20)\n",
    "\n",
    "    r.plot(res2, show=False) # plot second half of data\n",
    "\n",
    "te.show()"
   ]
  }
 ],
 "metadata": {
  "kernelspec": {
   "display_name": "Python 3",
   "language": "python",
   "name": "python3"
  },
  "language_info": {
   "codemirror_mode": {
    "name": "ipython",
    "version": 3
   },
   "file_extension": ".py",
   "mimetype": "text/x-python",
   "name": "python",
   "nbconvert_exporter": "python",
   "pygments_lexer": "ipython3",
   "version": "3.6.5"
  }
 },
 "nbformat": 4,
 "nbformat_minor": 2
}
