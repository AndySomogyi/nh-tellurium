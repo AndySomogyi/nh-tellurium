{
 "cells": [
  {
   "cell_type": "code",
   "execution_count": null,
   "metadata": {},
   "outputs": [],
   "source": [
    "%%javascript\n",
    "$('menubar-container').hide();\n",
    "$('.end_space').hide();\n",
    "$('#notebook-container').css('padding', '0px');\n",
    "$('#menubar-container').hide();\n",
    "$('#save_widget').hide();\n",
    "$('#ipython_notebook').hide();\n",
    "$('#kernel_logo_widget').hide();\n",
    "$('#notebook').css('padding-top', '0px');\n",
    "$('<style>div.output_subarea{max-width:100%}</style>').appendTo('head');\n",
    "$('<style>div.cell{padding:0px}</style>').appendTo('head');\n",
    "$('<style>#appmode-leave{display:none}</style>').appendTo('head');\n",
    "$('<style>span#login_widget {position: absolute;left: 14px}</style>').appendTo('head');\n",
    "$('<style>body > #header{background-color: #eeee;}</style>').appendTo('head');"
   ]
  },
  {
   "cell_type": "code",
   "execution_count": null,
   "metadata": {
    "scrolled": false
   },
   "outputs": [],
   "source": [
    "import sys\n",
    "sys.path.insert(0,'./site-packages')\n",
    "import tellurium as te\n",
    ""
   ]
  }
 ],
 "metadata": {
  "kernelspec": {
   "display_name": "Python 3",
   "language": "python",
   "name": "python3"
  },
  "language_info": {
   "codemirror_mode": {
    "name": "ipython",
    "version": 3
   },
   "file_extension": ".py",
   "mimetype": "text/x-python",
   "name": "python",
   "nbconvert_exporter": "python",
   "pygments_lexer": "ipython3",
   "version": "3.7.3"
  }
 },
 "nbformat": 4,
 "nbformat_minor": 2
}
